{
 "cells": [
  {
   "cell_type": "markdown",
   "id": "0875ba2a-b632-4f7c-8513-1888375fc008",
   "metadata": {},
   "source": [
    "# Data Science Tools and Ecosystem"
   ]
  },
  {
   "cell_type": "markdown",
   "id": "498c83d6-168c-4c54-9517-e53280d75fea",
   "metadata": {},
   "source": [
    "In this notebook, Data Science Tools and Ecosystem are summarized."
   ]
  },
  {
   "cell_type": "markdown",
   "id": "8bf14135-3d0c-452c-a759-5d81a49e845e",
   "metadata": {},
   "source": [
    "Objectives:\n",
    "* Categories of Data Science Tools\n",
    "* Open Source Tools for Data Science\n",
    "* Commercial Tools for Data Science\n",
    "* Languages for Data Science\n",
    "* Libraries for Data Science"
   ]
  },
  {
   "cell_type": "markdown",
   "id": "e38d05d5-991b-45de-97d9-923c27df9fe0",
   "metadata": {},
   "source": [
    "## Author\n",
    "Anoja Derlin Rose G M"
   ]
  },
  {
   "cell_type": "markdown",
   "id": "5f0b1d20-176c-4faf-8f72-85ce76f6039f",
   "metadata": {},
   "source": [
    "Some of the popular languages that Data Scientists use are:\n",
    "1. Python\n",
    "2. R\n",
    "3. Scala"
   ]
  },
  {
   "cell_type": "markdown",
   "id": "f2ab910e-254a-4d2d-ac7c-38818c7ed025",
   "metadata": {},
   "source": [
    "Some of the commonly used libraries used by Data Scientists include:\n",
    "1. Pandas\n",
    "2. NumPy\n",
    "3. Matplotlib\n",
    "4. Seaborn"
   ]
  },
  {
   "cell_type": "markdown",
   "id": "19fffa43-0ea9-4dbf-809d-86a8ec867101",
   "metadata": {},
   "source": [
    "|Data Science Tools|\n",
    "|------------------|\n",
    "|RStudio|\n",
    "|Apache Spark|\n",
    "|TensorFlow|\n"
   ]
  },
  {
   "cell_type": "markdown",
   "id": "6fdfdf0d-46b0-481a-af64-cc617f2595e2",
   "metadata": {},
   "source": [
    "### Below are a few examples of evaluating arithmetic expressions in Python\n"
   ]
  },
  {
   "cell_type": "code",
   "execution_count": 4,
   "id": "d5606877-63d1-4600-8437-30f661c03a8c",
   "metadata": {},
   "outputs": [
    {
     "data": {
      "text/plain": [
       "17"
      ]
     },
     "execution_count": 4,
     "metadata": {},
     "output_type": "execute_result"
    }
   ],
   "source": [
    "#This a simple arithmetic expression to mutiply then add integers\n",
    "(3*4)+5"
   ]
  },
  {
   "cell_type": "code",
   "execution_count": 5,
   "id": "9313b2dc-7435-4757-8b4a-f47ce9c0f289",
   "metadata": {},
   "outputs": [
    {
     "data": {
      "text/plain": [
       "3.3333333333333335"
      ]
     },
     "execution_count": 5,
     "metadata": {},
     "output_type": "execute_result"
    }
   ],
   "source": [
    "#This will convert 200 minutes to hours by diving by 60\n",
    "200/60"
   ]
  },
  {
   "cell_type": "code",
   "execution_count": null,
   "id": "0cb19f1b-a75b-4596-99a8-79d2fc80ee31",
   "metadata": {},
   "outputs": [],
   "source": []
  }
 ],
 "metadata": {
  "kernelspec": {
   "display_name": "Python 3 (ipykernel)",
   "language": "python",
   "name": "python3"
  },
  "language_info": {
   "codemirror_mode": {
    "name": "ipython",
    "version": 3
   },
   "file_extension": ".py",
   "mimetype": "text/x-python",
   "name": "python",
   "nbconvert_exporter": "python",
   "pygments_lexer": "ipython3",
   "version": "3.11.5"
  }
 },
 "nbformat": 4,
 "nbformat_minor": 5
}
